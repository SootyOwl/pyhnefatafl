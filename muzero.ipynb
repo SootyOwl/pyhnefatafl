{
 "cells": [
  {
   "cell_type": "code",
   "execution_count": 1,
   "metadata": {},
   "outputs": [],
   "source": [
    "import torch\n",
    "assert torch.cuda.is_available(), \"CUDA is not available!\""
   ]
  },
  {
   "cell_type": "code",
   "execution_count": 2,
   "metadata": {},
   "outputs": [
    {
     "name": "stderr",
     "output_type": "stream",
     "text": [
      "2023-02-24 00:14:52,512\tINFO worker.py:1538 -- Started a local Ray instance.\n"
     ]
    },
    {
     "name": "stdout",
     "output_type": "stream",
     "text": [
      "\n",
      "Initializing replay buffer with results/muzero/2023-02-23_20-10-20/replay_buffer.pkl\n"
     ]
    }
   ],
   "source": [
    "from muzero_baseline.muzero import MuZero\n",
    "\n",
    "from hnefatafl.muzero import HnefataflGame, MuZeroConfig\n",
    "import os\n",
    "config = MuZeroConfig()\n",
    "config.network = \"resnet\"\n",
    "config.max_num_gpus = 1\n",
    "config.train_on_gpu = True\n",
    "config.reanalyse_on_gpu = False\n",
    "config.selfplay_on_gpu = False\n",
    "config.batch_size = 16\n",
    "config.training_steps = 1000\n",
    "config.num_workers = 16\n",
    "config.max_moves = 250\n",
    "config.temperature_threshold = None\n",
    "config.support_size = 10\n",
    "config.num_unroll_steps = 20\n",
    "config.num_simulations = 50\n",
    "\n",
    "mz = MuZero(HnefataflGame, config)\n",
    "\n",
    "# load the model if we have a checkpoint to load (model.checkpoint in config.results_path)\n",
    "run_path = \"results/muzero/2023-02-24_00-14-51\"\n",
    "checkpoint_path = os.path.join(run_path, \"model.checkpoint\")\n",
    "replay_buffer_path = os.path.join(run_path, \"replay_buffer.pkl\")\n",
    "\n",
    "if os.path.exists(checkpoint_path):\n",
    "    if os.path.exists(replay_buffer_path):\n",
    "        mz.load_model(checkpoint_path, replay_buffer_path)\n",
    "    else:\n",
    "        mz.load_model(checkpoint_path)\n",
    "if os.path.exists(replay_buffer_path):\n",
    "    mz.load_model(replay_buffer_path=replay_buffer_path)\n"
   ]
  },
  {
   "cell_type": "code",
   "execution_count": 3,
   "metadata": {},
   "outputs": [
    {
     "data": {
      "text/html": [
       "\n",
       "      <iframe id=\"tensorboard-frame-7eed1772523cb29e\" width=\"100%\" height=\"800\" frameborder=\"0\">\n",
       "      </iframe>\n",
       "      <script>\n",
       "        (function() {\n",
       "          const frame = document.getElementById(\"tensorboard-frame-7eed1772523cb29e\");\n",
       "          const url = new URL(\"/\", window.location);\n",
       "          const port = 6006;\n",
       "          if (port) {\n",
       "            url.port = port;\n",
       "          }\n",
       "          frame.src = url;\n",
       "        })();\n",
       "      </script>\n",
       "    "
      ],
      "text/plain": [
       "<IPython.core.display.HTML object>"
      ]
     },
     "metadata": {},
     "output_type": "display_data"
    }
   ],
   "source": [
    "%load_ext tensorboard\n",
    "%tensorboard --logdir ./results/muzero --bind_all"
   ]
  },
  {
   "cell_type": "code",
   "execution_count": 4,
   "metadata": {},
   "outputs": [
    {
     "name": "stderr",
     "output_type": "stream",
     "text": [
      "Timesteps:   0%|          | 0/16000 [00:00<?, ?it/s]"
     ]
    },
    {
     "name": "stdout",
     "output_type": "stream",
     "text": [
      "\n",
      "Training...\n",
      "Run tensorboard --logdir ./results and go to http://localhost:6006/ to see in real time the training performance.\n",
      "\n"
     ]
    },
    {
     "name": "stderr",
     "output_type": "stream",
     "text": [
      "Timesteps:   0%|          | 13/16000 [00:20<6:50:58,  1.54s/it]"
     ]
    },
    {
     "name": "stdout",
     "output_type": "stream",
     "text": [
      "\u001b[2m\u001b[36m(ReplayBuffer pid=710170)\u001b[0m Replay buffer initialized with 14307 samples (90 games).\n",
      "\u001b[2m\u001b[36m(ReplayBuffer pid=710170)\u001b[0m \n"
     ]
    },
    {
     "name": "stderr",
     "output_type": "stream",
     "text": [
      "Timesteps:   9%|▉         | 1501/16000 [19:22<3:07:13,  1.29it/s]\n"
     ]
    },
    {
     "name": "stdout",
     "output_type": "stream",
     "text": [
      "\n",
      "Shutting down workers...\n",
      "\n",
      "\n",
      "Persisting replay buffer games to disk...\n"
     ]
    }
   ],
   "source": [
    "mz.train(per_step_progress=True)"
   ]
  }
 ],
 "metadata": {
  "kernelspec": {
   "display_name": "tf",
   "language": "python",
   "name": "python3"
  },
  "language_info": {
   "codemirror_mode": {
    "name": "ipython",
    "version": 3
   },
   "file_extension": ".py",
   "mimetype": "text/x-python",
   "name": "python",
   "nbconvert_exporter": "python",
   "pygments_lexer": "ipython3",
   "version": "3.10.9"
  },
  "orig_nbformat": 4,
  "vscode": {
   "interpreter": {
    "hash": "75be71934ae121effcdda49546be9a5697ad08bc55ae13bc1fb81c73be75bcf2"
   }
  }
 },
 "nbformat": 4,
 "nbformat_minor": 2
}
