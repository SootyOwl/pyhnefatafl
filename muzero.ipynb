{
 "cells": [
  {
   "attachments": {},
   "cell_type": "markdown",
   "metadata": {},
   "source": [
    "## Set-up"
   ]
  },
  {
   "cell_type": "code",
   "execution_count": null,
   "metadata": {},
   "outputs": [],
   "source": [
    "import torch\n",
    "assert torch.cuda.is_available(), \"CUDA is not available!\""
   ]
  },
  {
   "cell_type": "code",
   "execution_count": null,
   "metadata": {},
   "outputs": [],
   "source": [
    "from muzero_baseline.muzero import MuZero\n",
    "from hnefatafl import Board\n",
    "from hnefatafl.muzero import HnefataflGame, MuZeroConfig, MuZeroResnetSmall\n",
    "import os\n",
    "import json\n",
    "import datetime"
   ]
  },
  {
   "attachments": {},
   "cell_type": "markdown",
   "metadata": {},
   "source": [
    "## Config"
   ]
  },
  {
   "cell_type": "code",
   "execution_count": null,
   "metadata": {},
   "outputs": [],
   "source": [
    "config = MuZeroResnetSmall()"
   ]
  },
  {
   "cell_type": "code",
   "execution_count": null,
   "metadata": {},
   "outputs": [],
   "source": [
    "config.num_workers = 8 # parallelize the self-play but allow some threads for the reanalysis\n",
    "config.opponent = \"self\"\n",
    "config.muzero_player = -1 # player 1 is the defender, player -1 is the attacker\n",
    "config.max_moves = 100  # Most randomly generated games are shorter than 250, so this is a good upper bound. \"expert\" (i.e always capture) games are usually shorter than 100.\n",
    "config.num_simulations = 50\n",
    "config.td_steps = config.max_moves # number of steps to unroll the game for the value function\n",
    "# dump the config to a file so we can use it later if we want\n",
    "# add the variables to the path so we can easily identify the results\n",
    "# get class name\n",
    "config_name = config.__class__.__name__.split(\".\")[-1].split(\"'\")[0]\n",
    "config.results_path = f\"{config.results_path}_{config_name}__{config.opponent}_{config.num_simulations}_{config.max_moves}\"\n",
    "None if os.path.exists(config.results_path) else os.mkdir(config.results_path)\n",
    "with open(os.path.join(config.results_path, \"config.json\"), \"w\") as f:\n",
    "    # copy the config to a dict so we can serialize it\n",
    "    config_dict = {k: v for k, v in config.__dict__.items() if not k.startswith(\"_\") and k != \"results_path\"}\n",
    "    json.dump(config_dict, f)"
   ]
  },
  {
   "attachments": {},
   "cell_type": "markdown",
   "metadata": {},
   "source": [
    "## Set up tensorboard"
   ]
  },
  {
   "cell_type": "code",
   "execution_count": null,
   "metadata": {},
   "outputs": [],
   "source": [
    "%load_ext tensorboard\n",
    "%tensorboard --logdir ./results/muzero --host rigel"
   ]
  },
  {
   "attachments": {},
   "cell_type": "markdown",
   "metadata": {},
   "source": [
    "## Loading and Training the Model"
   ]
  },
  {
   "cell_type": "code",
   "execution_count": null,
   "metadata": {},
   "outputs": [],
   "source": [
    "mz = MuZero(HnefataflGame, config)"
   ]
  },
  {
   "cell_type": "code",
   "execution_count": null,
   "metadata": {},
   "outputs": [],
   "source": [
    "# load the model if we have a checkpoint to load (model.checkpoint in the previous config.results_path)\n",
    "# use glob to find the latest checkpoint from a previous run\n",
    "# run_path = max(glob.glob(os.path.join(config.results_path, \"run_*\")), key=os.path.getmtime)\n",
    "run_path = config.results_path\n",
    "checkpoint_path = os.path.join(run_path, \"model.checkpoint\")\n",
    "replay_buffer_path = os.path.join(run_path, \"replay_buffer.pkl\")\n",
    "\n",
    "if os.path.exists(checkpoint_path):\n",
    "    if os.path.exists(replay_buffer_path):\n",
    "        mz.load_model(checkpoint_path, replay_buffer_path)\n",
    "    else:\n",
    "        mz.load_model(checkpoint_path)\n",
    "if os.path.exists(replay_buffer_path):\n",
    "    mz.load_model(replay_buffer_path=replay_buffer_path)\n"
   ]
  },
  {
   "cell_type": "code",
   "execution_count": null,
   "metadata": {},
   "outputs": [],
   "source": [
    "mz.train(per_step_progress=True)"
   ]
  }
 ],
 "metadata": {
  "kernelspec": {
   "display_name": "tf",
   "language": "python",
   "name": "python3"
  },
  "language_info": {
   "codemirror_mode": {
    "name": "ipython",
    "version": 3
   },
   "file_extension": ".py",
   "mimetype": "text/x-python",
   "name": "python",
   "nbconvert_exporter": "python",
   "pygments_lexer": "ipython3",
   "version": "3.10.9"
  },
  "orig_nbformat": 4,
  "vscode": {
   "interpreter": {
    "hash": "75be71934ae121effcdda49546be9a5697ad08bc55ae13bc1fb81c73be75bcf2"
   }
  }
 },
 "nbformat": 4,
 "nbformat_minor": 2
}
