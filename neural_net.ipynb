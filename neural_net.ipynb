{
  "cells": [
    {
      "cell_type": "markdown",
      "metadata": {
        "colab_type": "text",
        "id": "view-in-github"
      },
      "source": [
        "<a href=\"https://colab.research.google.com/github/SootyOwl/pyhnefatafl/blob/main/neural_net.ipynb\" target=\"_parent\"><img src=\"https://colab.research.google.com/assets/colab-badge.svg\" alt=\"Open In Colab\"/></a>"
      ]
    },
    {
      "cell_type": "code",
      "execution_count": 5,
      "metadata": {},
      "outputs": [],
      "source": [
        "import logging\n",
        "\n",
        "import coloredlogs\n",
        "from alphazero.coach import Coach\n",
        "from hnefatafl.game import HnefataflGame as Game\n",
        "from hnefatafl.ai import NNetWrapper as nn\n",
        "from alphazero.utils import dotdict\n",
        "\n",
        "log = logging.getLogger(__name__)\n",
        "coloredlogs.install(level=\"INFO\", logger=log)"
      ]
    },
    {
      "cell_type": "code",
      "execution_count": 11,
      "metadata": {},
      "outputs": [],
      "source": [
        "args = dotdict(\n",
        "    {\n",
        "    'numIters': 1,\n",
        "    'numEps': 1,                # Number of complete self-play games to simulate during a new iteration.\n",
        "    'tempThreshold': 15,        # \n",
        "    'updateThreshold': 0.6,     # During arena playoff, new neural net will be accepted if threshold or more of games are won.\n",
        "    'maxlenOfQueue': 200000,    # Number of game examples to train the neural networks.\n",
        "    'numMCTSSims': 10,          # Number of games moves for MCTS to simulate.\n",
        "    'arenaCompare': 40,         # Number of games to play during arena play to determine if new net will be accepted.\n",
        "    'cpuct': 1,                 # The amount of exploration to allow in the MCTS tree.\n",
        "\n",
        "    'checkpoint': './temp/',\n",
        "    'load_model': False,\n",
        "    'load_folder_file': ('/dev/models/8x100x50','best.pth.tar'),\n",
        "    'numItersForTrainExamplesHistory': 20,\n",
        "    }\n",
        ")\n"
      ]
    },
    {
      "cell_type": "code",
      "execution_count": 12,
      "metadata": {},
      "outputs": [],
      "source": [
        "def main():\n",
        "    log.info('Loading %s...', Game.__name__)\n",
        "    g = Game()\n",
        "\n",
        "    log.info('Loading %s...', nn.__name__)\n",
        "    nnet = nn(g)\n",
        "\n",
        "    if args.load_model:\n",
        "        log.info('Loading checkpoint \"%s/%s\"...', args.load_folder_file[0], args.load_folder_file[1])\n",
        "        nnet.load_checkpoint(args.load_folder_file[0], args.load_folder_file[1])\n",
        "    else:\n",
        "        log.warning('Not loading a checkpoint!')\n",
        "\n",
        "    log.info('Loading the Coach...')\n",
        "    c = Coach(g, nnet, args)\n",
        "\n",
        "    if args.load_model:\n",
        "        log.info(\"Loading 'trainExamples' from file...\")\n",
        "        c.loadTrainExamples()\n",
        "\n",
        "    log.info('Starting the learning process 🎉')\n",
        "    c.learn()"
      ]
    },
    {
      "cell_type": "code",
      "execution_count": 13,
      "metadata": {},
      "outputs": [
        {
          "name": "stderr",
          "output_type": "stream",
          "text": [
            "2023-02-09 12:14:27 saiph __main__[516631] INFO Loading HnefataflGame...\n",
            "2023-02-09 12:14:27 saiph __main__[516631] INFO Loading NNetWrapper...\n"
          ]
        },
        {
          "name": "stdout",
          "output_type": "stream",
          "text": [
            "WARNING:tensorflow:\n",
            "The following Variables were used a Lambda layer's call (tf.compat.v1.nn.fused_batch_norm_16), but\n",
            "are not present in its tracked objects:\n",
            "  <tf.Variable 'batch_normalization_24/gamma:0' shape=(512,) dtype=float32>\n",
            "  <tf.Variable 'batch_normalization_24/beta:0' shape=(512,) dtype=float32>\n",
            "It is possible that this is intended behavior, but it is more likely\n",
            "an omission. This is a strong indication that this layer should be\n",
            "formulated as a subclassed Layer rather than a Lambda layer.\n",
            "WARNING:tensorflow:\n",
            "The following Variables were used a Lambda layer's call (tf.compat.v1.nn.fused_batch_norm_17), but\n",
            "are not present in its tracked objects:\n",
            "  <tf.Variable 'batch_normalization_25/gamma:0' shape=(512,) dtype=float32>\n",
            "  <tf.Variable 'batch_normalization_25/beta:0' shape=(512,) dtype=float32>\n",
            "It is possible that this is intended behavior, but it is more likely\n",
            "an omission. This is a strong indication that this layer should be\n",
            "formulated as a subclassed Layer rather than a Lambda layer.\n",
            "WARNING:tensorflow:\n",
            "The following Variables were used a Lambda layer's call (tf.compat.v1.nn.fused_batch_norm_18), but\n",
            "are not present in its tracked objects:\n",
            "  <tf.Variable 'batch_normalization_26/gamma:0' shape=(512,) dtype=float32>\n",
            "  <tf.Variable 'batch_normalization_26/beta:0' shape=(512,) dtype=float32>\n",
            "It is possible that this is intended behavior, but it is more likely\n",
            "an omission. This is a strong indication that this layer should be\n",
            "formulated as a subclassed Layer rather than a Lambda layer.\n",
            "WARNING:tensorflow:\n",
            "The following Variables were used a Lambda layer's call (tf.compat.v1.nn.fused_batch_norm_19), but\n",
            "are not present in its tracked objects:\n",
            "  <tf.Variable 'batch_normalization_27/gamma:0' shape=(512,) dtype=float32>\n",
            "  <tf.Variable 'batch_normalization_27/beta:0' shape=(512,) dtype=float32>\n",
            "It is possible that this is intended behavior, but it is more likely\n",
            "an omission. This is a strong indication that this layer should be\n",
            "formulated as a subclassed Layer rather than a Lambda layer.\n"
          ]
        },
        {
          "name": "stderr",
          "output_type": "stream",
          "text": [
            "2023-02-09 12:14:29 saiph __main__[516631] WARNING Not loading a checkpoint!\n",
            "2023-02-09 12:14:29 saiph __main__[516631] INFO Loading the Coach...\n"
          ]
        },
        {
          "name": "stdout",
          "output_type": "stream",
          "text": [
            "WARNING:tensorflow:\n",
            "The following Variables were used a Lambda layer's call (tf.compat.v1.nn.fused_batch_norm_20), but\n",
            "are not present in its tracked objects:\n",
            "  <tf.Variable 'batch_normalization_30/gamma:0' shape=(512,) dtype=float32>\n",
            "  <tf.Variable 'batch_normalization_30/beta:0' shape=(512,) dtype=float32>\n",
            "It is possible that this is intended behavior, but it is more likely\n",
            "an omission. This is a strong indication that this layer should be\n",
            "formulated as a subclassed Layer rather than a Lambda layer.\n",
            "WARNING:tensorflow:\n",
            "The following Variables were used a Lambda layer's call (tf.compat.v1.nn.fused_batch_norm_21), but\n",
            "are not present in its tracked objects:\n",
            "  <tf.Variable 'batch_normalization_31/gamma:0' shape=(512,) dtype=float32>\n",
            "  <tf.Variable 'batch_normalization_31/beta:0' shape=(512,) dtype=float32>\n",
            "It is possible that this is intended behavior, but it is more likely\n",
            "an omission. This is a strong indication that this layer should be\n",
            "formulated as a subclassed Layer rather than a Lambda layer.\n",
            "WARNING:tensorflow:\n",
            "The following Variables were used a Lambda layer's call (tf.compat.v1.nn.fused_batch_norm_22), but\n",
            "are not present in its tracked objects:\n",
            "  <tf.Variable 'batch_normalization_32/gamma:0' shape=(512,) dtype=float32>\n",
            "  <tf.Variable 'batch_normalization_32/beta:0' shape=(512,) dtype=float32>\n",
            "It is possible that this is intended behavior, but it is more likely\n",
            "an omission. This is a strong indication that this layer should be\n",
            "formulated as a subclassed Layer rather than a Lambda layer.\n",
            "WARNING:tensorflow:\n",
            "The following Variables were used a Lambda layer's call (tf.compat.v1.nn.fused_batch_norm_23), but\n",
            "are not present in its tracked objects:\n",
            "  <tf.Variable 'batch_normalization_33/gamma:0' shape=(512,) dtype=float32>\n",
            "  <tf.Variable 'batch_normalization_33/beta:0' shape=(512,) dtype=float32>\n",
            "It is possible that this is intended behavior, but it is more likely\n",
            "an omission. This is a strong indication that this layer should be\n",
            "formulated as a subclassed Layer rather than a Lambda layer.\n"
          ]
        },
        {
          "name": "stderr",
          "output_type": "stream",
          "text": [
            "2023-02-09 12:14:30 saiph __main__[516631] INFO Starting the learning process 🎉\n",
            "Self Play:   0%|          | 0/1 [00:46<?, ?it/s]\n"
          ]
        },
        {
          "ename": "RecursionError",
          "evalue": "maximum recursion depth exceeded",
          "output_type": "error",
          "traceback": [
            "\u001b[0;31m---------------------------------------------------------------------------\u001b[0m",
            "\u001b[0;31mRecursionError\u001b[0m                            Traceback (most recent call last)",
            "Cell \u001b[0;32mIn[13], line 1\u001b[0m\n\u001b[0;32m----> 1\u001b[0m main()\n",
            "Cell \u001b[0;32mIn[12], line 22\u001b[0m, in \u001b[0;36mmain\u001b[0;34m()\u001b[0m\n\u001b[1;32m     19\u001b[0m     c\u001b[39m.\u001b[39mloadTrainExamples()\n\u001b[1;32m     21\u001b[0m log\u001b[39m.\u001b[39minfo(\u001b[39m'\u001b[39m\u001b[39mStarting the learning process 🎉\u001b[39m\u001b[39m'\u001b[39m)\n\u001b[0;32m---> 22\u001b[0m c\u001b[39m.\u001b[39;49mlearn()\n",
            "File \u001b[0;32m~/Documents/coding/python/pyhnefatafl/src/alphazero/coach.py:89\u001b[0m, in \u001b[0;36mCoach.learn\u001b[0;34m(self)\u001b[0m\n\u001b[1;32m     87\u001b[0m \u001b[39mfor\u001b[39;00m _ \u001b[39min\u001b[39;00m tqdm(\u001b[39mrange\u001b[39m(\u001b[39mself\u001b[39m\u001b[39m.\u001b[39margs\u001b[39m.\u001b[39mnumEps), desc\u001b[39m=\u001b[39m\u001b[39m\"\u001b[39m\u001b[39mSelf Play\u001b[39m\u001b[39m\"\u001b[39m):\n\u001b[1;32m     88\u001b[0m     \u001b[39mself\u001b[39m\u001b[39m.\u001b[39mmcts \u001b[39m=\u001b[39m MCTS(\u001b[39mself\u001b[39m\u001b[39m.\u001b[39mgame, \u001b[39mself\u001b[39m\u001b[39m.\u001b[39mnnet, \u001b[39mself\u001b[39m\u001b[39m.\u001b[39margs)  \u001b[39m# reset search tree\u001b[39;00m\n\u001b[0;32m---> 89\u001b[0m     iterationTrainExamples \u001b[39m+\u001b[39m\u001b[39m=\u001b[39m \u001b[39mself\u001b[39;49m\u001b[39m.\u001b[39;49mexecuteEpisode()\n\u001b[1;32m     91\u001b[0m \u001b[39m# save the iteration examples to the history \u001b[39;00m\n\u001b[1;32m     92\u001b[0m \u001b[39mself\u001b[39m\u001b[39m.\u001b[39mtrainExamplesHistory\u001b[39m.\u001b[39mappend(iterationTrainExamples)\n",
            "File \u001b[0;32m~/Documents/coding/python/pyhnefatafl/src/alphazero/coach.py:58\u001b[0m, in \u001b[0;36mCoach.executeEpisode\u001b[0;34m(self)\u001b[0m\n\u001b[1;32m     55\u001b[0m canonicalBoard \u001b[39m=\u001b[39m \u001b[39mself\u001b[39m\u001b[39m.\u001b[39mgame\u001b[39m.\u001b[39mgetCanonicalForm(board, \u001b[39mself\u001b[39m\u001b[39m.\u001b[39mcurPlayer)\n\u001b[1;32m     56\u001b[0m temp \u001b[39m=\u001b[39m \u001b[39mint\u001b[39m(episodeStep \u001b[39m<\u001b[39m \u001b[39mself\u001b[39m\u001b[39m.\u001b[39margs\u001b[39m.\u001b[39mtempThreshold)\n\u001b[0;32m---> 58\u001b[0m pi \u001b[39m=\u001b[39m \u001b[39mself\u001b[39;49m\u001b[39m.\u001b[39;49mmcts\u001b[39m.\u001b[39;49mgetActionProb(canonicalBoard, temp\u001b[39m=\u001b[39;49mtemp)\n\u001b[1;32m     59\u001b[0m sym \u001b[39m=\u001b[39m \u001b[39mself\u001b[39m\u001b[39m.\u001b[39mgame\u001b[39m.\u001b[39mgetSymmetries(canonicalBoard, pi)\n\u001b[1;32m     60\u001b[0m \u001b[39mfor\u001b[39;00m b, p \u001b[39min\u001b[39;00m sym:\n",
            "File \u001b[0;32m~/Documents/coding/python/pyhnefatafl/src/alphazero/MCTS.py:38\u001b[0m, in \u001b[0;36mMCTS.getActionProb\u001b[0;34m(self, canonicalBoard, temp)\u001b[0m\n\u001b[1;32m     29\u001b[0m \u001b[39m\u001b[39m\u001b[39m\"\"\"\u001b[39;00m\n\u001b[1;32m     30\u001b[0m \u001b[39mThis function performs numMCTSSims simulations of MCTS starting from\u001b[39;00m\n\u001b[1;32m     31\u001b[0m \u001b[39mcanonicalBoard.\u001b[39;00m\n\u001b[0;32m   (...)\u001b[0m\n\u001b[1;32m     35\u001b[0m \u001b[39m           proportional to Nsa[(s,a)]**(1./temp)\u001b[39;00m\n\u001b[1;32m     36\u001b[0m \u001b[39m\"\"\"\u001b[39;00m\n\u001b[1;32m     37\u001b[0m \u001b[39mfor\u001b[39;00m _ \u001b[39min\u001b[39;00m \u001b[39mrange\u001b[39m(\u001b[39mself\u001b[39m\u001b[39m.\u001b[39margs\u001b[39m.\u001b[39mnumMCTSSims):\n\u001b[0;32m---> 38\u001b[0m     \u001b[39mself\u001b[39;49m\u001b[39m.\u001b[39;49msearch(canonicalBoard)\n\u001b[1;32m     40\u001b[0m s \u001b[39m=\u001b[39m \u001b[39mself\u001b[39m\u001b[39m.\u001b[39mgame\u001b[39m.\u001b[39mstringRepresentation(canonicalBoard)\n\u001b[1;32m     41\u001b[0m counts \u001b[39m=\u001b[39m [\n\u001b[1;32m     42\u001b[0m     \u001b[39mself\u001b[39m\u001b[39m.\u001b[39mNsa[(s, a)] \u001b[39mif\u001b[39;00m (s, a) \u001b[39min\u001b[39;00m \u001b[39mself\u001b[39m\u001b[39m.\u001b[39mNsa \u001b[39melse\u001b[39;00m \u001b[39m0\u001b[39m\n\u001b[1;32m     43\u001b[0m     \u001b[39mfor\u001b[39;00m a \u001b[39min\u001b[39;00m \u001b[39mrange\u001b[39m(\u001b[39mself\u001b[39m\u001b[39m.\u001b[39mgame\u001b[39m.\u001b[39mgetActionSize())\n\u001b[1;32m     44\u001b[0m ]\n",
            "File \u001b[0;32m~/Documents/coding/python/pyhnefatafl/src/alphazero/MCTS.py:131\u001b[0m, in \u001b[0;36mMCTS.search\u001b[0;34m(self, canonicalBoard)\u001b[0m\n\u001b[1;32m    128\u001b[0m next_s, next_player \u001b[39m=\u001b[39m \u001b[39mself\u001b[39m\u001b[39m.\u001b[39mgame\u001b[39m.\u001b[39mgetNextState(canonicalBoard, \u001b[39m1\u001b[39m, a)\n\u001b[1;32m    129\u001b[0m next_s \u001b[39m=\u001b[39m \u001b[39mself\u001b[39m\u001b[39m.\u001b[39mgame\u001b[39m.\u001b[39mgetCanonicalForm(next_s, next_player)\n\u001b[0;32m--> 131\u001b[0m v \u001b[39m=\u001b[39m \u001b[39mself\u001b[39;49m\u001b[39m.\u001b[39;49msearch(next_s)\n\u001b[1;32m    133\u001b[0m \u001b[39mif\u001b[39;00m (s, a) \u001b[39min\u001b[39;00m \u001b[39mself\u001b[39m\u001b[39m.\u001b[39mQsa:\n\u001b[1;32m    134\u001b[0m     \u001b[39mself\u001b[39m\u001b[39m.\u001b[39mQsa[(s, a)] \u001b[39m=\u001b[39m (\u001b[39mself\u001b[39m\u001b[39m.\u001b[39mNsa[(s, a)] \u001b[39m*\u001b[39m \u001b[39mself\u001b[39m\u001b[39m.\u001b[39mQsa[(s, a)] \u001b[39m+\u001b[39m v) \u001b[39m/\u001b[39m (\n\u001b[1;32m    135\u001b[0m         \u001b[39mself\u001b[39m\u001b[39m.\u001b[39mNsa[(s, a)] \u001b[39m+\u001b[39m \u001b[39m1\u001b[39m\n\u001b[1;32m    136\u001b[0m     )\n",
            "File \u001b[0;32m~/Documents/coding/python/pyhnefatafl/src/alphazero/MCTS.py:131\u001b[0m, in \u001b[0;36mMCTS.search\u001b[0;34m(self, canonicalBoard)\u001b[0m\n\u001b[1;32m    128\u001b[0m next_s, next_player \u001b[39m=\u001b[39m \u001b[39mself\u001b[39m\u001b[39m.\u001b[39mgame\u001b[39m.\u001b[39mgetNextState(canonicalBoard, \u001b[39m1\u001b[39m, a)\n\u001b[1;32m    129\u001b[0m next_s \u001b[39m=\u001b[39m \u001b[39mself\u001b[39m\u001b[39m.\u001b[39mgame\u001b[39m.\u001b[39mgetCanonicalForm(next_s, next_player)\n\u001b[0;32m--> 131\u001b[0m v \u001b[39m=\u001b[39m \u001b[39mself\u001b[39;49m\u001b[39m.\u001b[39;49msearch(next_s)\n\u001b[1;32m    133\u001b[0m \u001b[39mif\u001b[39;00m (s, a) \u001b[39min\u001b[39;00m \u001b[39mself\u001b[39m\u001b[39m.\u001b[39mQsa:\n\u001b[1;32m    134\u001b[0m     \u001b[39mself\u001b[39m\u001b[39m.\u001b[39mQsa[(s, a)] \u001b[39m=\u001b[39m (\u001b[39mself\u001b[39m\u001b[39m.\u001b[39mNsa[(s, a)] \u001b[39m*\u001b[39m \u001b[39mself\u001b[39m\u001b[39m.\u001b[39mQsa[(s, a)] \u001b[39m+\u001b[39m v) \u001b[39m/\u001b[39m (\n\u001b[1;32m    135\u001b[0m         \u001b[39mself\u001b[39m\u001b[39m.\u001b[39mNsa[(s, a)] \u001b[39m+\u001b[39m \u001b[39m1\u001b[39m\n\u001b[1;32m    136\u001b[0m     )\n",
            "    \u001b[0;31m[... skipping similar frames: MCTS.search at line 131 (2958 times)]\u001b[0m\n",
            "File \u001b[0;32m~/Documents/coding/python/pyhnefatafl/src/alphazero/MCTS.py:131\u001b[0m, in \u001b[0;36mMCTS.search\u001b[0;34m(self, canonicalBoard)\u001b[0m\n\u001b[1;32m    128\u001b[0m next_s, next_player \u001b[39m=\u001b[39m \u001b[39mself\u001b[39m\u001b[39m.\u001b[39mgame\u001b[39m.\u001b[39mgetNextState(canonicalBoard, \u001b[39m1\u001b[39m, a)\n\u001b[1;32m    129\u001b[0m next_s \u001b[39m=\u001b[39m \u001b[39mself\u001b[39m\u001b[39m.\u001b[39mgame\u001b[39m.\u001b[39mgetCanonicalForm(next_s, next_player)\n\u001b[0;32m--> 131\u001b[0m v \u001b[39m=\u001b[39m \u001b[39mself\u001b[39;49m\u001b[39m.\u001b[39;49msearch(next_s)\n\u001b[1;32m    133\u001b[0m \u001b[39mif\u001b[39;00m (s, a) \u001b[39min\u001b[39;00m \u001b[39mself\u001b[39m\u001b[39m.\u001b[39mQsa:\n\u001b[1;32m    134\u001b[0m     \u001b[39mself\u001b[39m\u001b[39m.\u001b[39mQsa[(s, a)] \u001b[39m=\u001b[39m (\u001b[39mself\u001b[39m\u001b[39m.\u001b[39mNsa[(s, a)] \u001b[39m*\u001b[39m \u001b[39mself\u001b[39m\u001b[39m.\u001b[39mQsa[(s, a)] \u001b[39m+\u001b[39m v) \u001b[39m/\u001b[39m (\n\u001b[1;32m    135\u001b[0m         \u001b[39mself\u001b[39m\u001b[39m.\u001b[39mNsa[(s, a)] \u001b[39m+\u001b[39m \u001b[39m1\u001b[39m\n\u001b[1;32m    136\u001b[0m     )\n",
            "File \u001b[0;32m~/Documents/coding/python/pyhnefatafl/src/alphazero/MCTS.py:78\u001b[0m, in \u001b[0;36mMCTS.search\u001b[0;34m(self, canonicalBoard)\u001b[0m\n\u001b[1;32m     59\u001b[0m \u001b[39m\u001b[39m\u001b[39m\"\"\"\u001b[39;00m\n\u001b[1;32m     60\u001b[0m \u001b[39mThis function performs one iteration of MCTS. It is recursively called\u001b[39;00m\n\u001b[1;32m     61\u001b[0m \u001b[39mtill a leaf node is found. The action chosen at each node is one that\u001b[39;00m\n\u001b[0;32m   (...)\u001b[0m\n\u001b[1;32m     75\u001b[0m \u001b[39m    v: the negative of the value of the current canonicalBoard\u001b[39;00m\n\u001b[1;32m     76\u001b[0m \u001b[39m\"\"\"\u001b[39;00m\n\u001b[1;32m     77\u001b[0m \u001b[39m# canonicalBoard is a 11x11x4 numpy array, where the first 2 dimensions are the friendly and enemy pieces, respectively, and the third dimension is the king location, and the fourth dimension is the player turn\u001b[39;00m\n\u001b[0;32m---> 78\u001b[0m s \u001b[39m=\u001b[39m \u001b[39mself\u001b[39;49m\u001b[39m.\u001b[39;49mgame\u001b[39m.\u001b[39;49mstringRepresentation(canonicalBoard)  \n\u001b[1;32m     80\u001b[0m \u001b[39mif\u001b[39;00m s \u001b[39mnot\u001b[39;00m \u001b[39min\u001b[39;00m \u001b[39mself\u001b[39m\u001b[39m.\u001b[39mEs:\n\u001b[1;32m     81\u001b[0m     \u001b[39mself\u001b[39m\u001b[39m.\u001b[39mEs[s] \u001b[39m=\u001b[39m \u001b[39mself\u001b[39m\u001b[39m.\u001b[39mgame\u001b[39m.\u001b[39mgetGameEnded(canonicalBoard, \u001b[39m1\u001b[39m)\n",
            "File \u001b[0;32m~/Documents/coding/python/pyhnefatafl/src/hnefatafl/game.py:15\u001b[0m, in \u001b[0;36marray_to_board.<locals>.wrapper\u001b[0;34m(self, board, *args, **kwargs)\u001b[0m\n\u001b[1;32m     13\u001b[0m \u001b[39mdef\u001b[39;00m \u001b[39mwrapper\u001b[39m(\u001b[39mself\u001b[39m, board: np\u001b[39m.\u001b[39mndarray, \u001b[39m*\u001b[39margs, \u001b[39m*\u001b[39m\u001b[39m*\u001b[39mkwargs):\n\u001b[1;32m     14\u001b[0m     \u001b[39mif\u001b[39;00m \u001b[39misinstance\u001b[39m(board, np\u001b[39m.\u001b[39mndarray):\n\u001b[0;32m---> 15\u001b[0m         board \u001b[39m=\u001b[39m hn_utils\u001b[39m.\u001b[39;49mget_board(board)\n\u001b[1;32m     16\u001b[0m     \u001b[39mreturn\u001b[39;00m func(\u001b[39mself\u001b[39m, board, \u001b[39m*\u001b[39margs, \u001b[39m*\u001b[39m\u001b[39m*\u001b[39mkwargs)\n",
            "File \u001b[0;32m~/Documents/coding/python/pyhnefatafl/src/hnefatafl/utils.py:71\u001b[0m, in \u001b[0;36mget_board\u001b[0;34m(observation, board_class)\u001b[0m\n\u001b[1;32m     69\u001b[0m enemy_pieces \u001b[39m=\u001b[39m _get_pieces_from_observation(observation, \u001b[39m1\u001b[39m)\n\u001b[1;32m     70\u001b[0m \u001b[39m# create the board\u001b[39;00m\n\u001b[0;32m---> 71\u001b[0m board: hn\u001b[39m.\u001b[39mBoardT \u001b[39m=\u001b[39m board_class(code\u001b[39m=\u001b[39;49m\u001b[39mNone\u001b[39;49;00m)\n\u001b[1;32m     72\u001b[0m \u001b[39m# create a boardstate object\u001b[39;00m\n\u001b[1;32m     73\u001b[0m board_state \u001b[39m=\u001b[39m hn\u001b[39m.\u001b[39m_BoardState(board)\n",
            "File \u001b[0;32m~/Documents/coding/python/pyhnefatafl/src/hnefatafl/__init__.py:1080\u001b[0m, in \u001b[0;36mBoard.__init__\u001b[0;34m(self, code, move_limit)\u001b[0m\n\u001b[1;32m   1077\u001b[0m \u001b[39mself\u001b[39m\u001b[39m.\u001b[39m_last_move: List[Move] \u001b[39m=\u001b[39m [Move\u001b[39m.\u001b[39mnull(), Move\u001b[39m.\u001b[39mnull()]\n\u001b[1;32m   1079\u001b[0m \u001b[39mif\u001b[39;00m code \u001b[39mis\u001b[39;00m \u001b[39mNone\u001b[39;00m:\n\u001b[0;32m-> 1080\u001b[0m     \u001b[39mself\u001b[39;49m\u001b[39m.\u001b[39;49mclear()\n\u001b[1;32m   1081\u001b[0m \u001b[39melif\u001b[39;00m code \u001b[39m==\u001b[39m \u001b[39mtype\u001b[39m(\u001b[39mself\u001b[39m)\u001b[39m.\u001b[39mstarting_code:\n\u001b[1;32m   1082\u001b[0m     \u001b[39mself\u001b[39m\u001b[39m.\u001b[39mreset()\n",
            "File \u001b[0;32m~/Documents/coding/python/pyhnefatafl/src/hnefatafl/__init__.py:1112\u001b[0m, in \u001b[0;36mBoard.clear\u001b[0;34m(self)\u001b[0m\n\u001b[1;32m   1109\u001b[0m \u001b[39mself\u001b[39m\u001b[39m.\u001b[39mhalfmove_clock \u001b[39m=\u001b[39m \u001b[39m0\u001b[39m\n\u001b[1;32m   1110\u001b[0m \u001b[39mself\u001b[39m\u001b[39m.\u001b[39mfullmove_number \u001b[39m=\u001b[39m \u001b[39m1\u001b[39m\n\u001b[0;32m-> 1112\u001b[0m \u001b[39mself\u001b[39;49m\u001b[39m.\u001b[39;49mclear_board()\n",
            "File \u001b[0;32m~/Documents/coding/python/pyhnefatafl/src/hnefatafl/__init__.py:1115\u001b[0m, in \u001b[0;36mBoard.clear_board\u001b[0;34m(self)\u001b[0m\n\u001b[1;32m   1114\u001b[0m \u001b[39mdef\u001b[39;00m \u001b[39mclear_board\u001b[39m(\u001b[39mself\u001b[39m) \u001b[39m-\u001b[39m\u001b[39m>\u001b[39m \u001b[39mNone\u001b[39;00m:\n\u001b[0;32m-> 1115\u001b[0m     \u001b[39msuper\u001b[39;49m()\u001b[39m.\u001b[39;49mclear_board()\n\u001b[1;32m   1116\u001b[0m     \u001b[39mself\u001b[39m\u001b[39m.\u001b[39mclear_stack()\n",
            "File \u001b[0;32m~/Documents/coding/python/pyhnefatafl/src/hnefatafl/__init__.py:558\u001b[0m, in \u001b[0;36mBaseBoard.clear_board\u001b[0;34m(self)\u001b[0m\n\u001b[1;32m    553\u001b[0m \u001b[39mdef\u001b[39;00m \u001b[39mclear_board\u001b[39m(\u001b[39mself\u001b[39m) \u001b[39m-\u001b[39m\u001b[39m>\u001b[39m \u001b[39mNone\u001b[39;00m:\n\u001b[1;32m    554\u001b[0m \u001b[39m    \u001b[39m\u001b[39m\"\"\"\u001b[39;00m\n\u001b[1;32m    555\u001b[0m \u001b[39m    Clears the board of all pieces.\u001b[39;00m\n\u001b[1;32m    556\u001b[0m \n\u001b[1;32m    557\u001b[0m \u001b[39m    :class:`~hnefatafl.Board` also resets the move stack.\"\"\"\u001b[39;00m\n\u001b[0;32m--> 558\u001b[0m     \u001b[39mself\u001b[39;49m\u001b[39m.\u001b[39;49m_clear_board()\n",
            "\u001b[0;31mRecursionError\u001b[0m: maximum recursion depth exceeded"
          ]
        }
      ],
      "source": [
        "main()"
      ]
    }
  ],
  "metadata": {
    "accelerator": "GPU",
    "colab": {
      "authorship_tag": "ABX9TyPSd+Gic42tmEVDBnFiI0I9",
      "include_colab_link": true,
      "provenance": []
    },
    "gpuClass": "standard",
    "kernelspec": {
      "display_name": "hnefatafl-iXtBdW8O-py3.10",
      "language": "python",
      "name": "python3"
    },
    "language_info": {
      "codemirror_mode": {
        "name": "ipython",
        "version": 3
      },
      "file_extension": ".py",
      "mimetype": "text/x-python",
      "name": "python",
      "nbconvert_exporter": "python",
      "pygments_lexer": "ipython3",
      "version": "3.10.0"
    },
    "vscode": {
      "interpreter": {
        "hash": "845991964a2a745f6015bd362f6ea69e960d1c1799964298537816295226f442"
      }
    }
  },
  "nbformat": 4,
  "nbformat_minor": 0
}
