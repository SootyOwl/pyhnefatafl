{
  "cells": [
    {
      "cell_type": "markdown",
      "metadata": {
        "colab_type": "text",
        "id": "view-in-github"
      },
      "source": [
        "<a href=\"https://colab.research.google.com/github/SootyOwl/pyhnefatafl/blob/main/neural_net.ipynb\" target=\"_parent\"><img src=\"https://colab.research.google.com/assets/colab-badge.svg\" alt=\"Open In Colab\"/></a>"
      ]
    },
    {
      "cell_type": "code",
      "execution_count": null,
      "metadata": {},
      "outputs": [],
      "source": [
        "import logging\n",
        "\n",
        "import coloredlogs\n",
        "from alphazero.coach import Coach\n",
        "from hnefatafl.game import HnefataflGame as Game\n",
        "from hnefatafl.ai import NNetWrapper as nn\n",
        "from alphazero.utils import dotdict\n",
        "\n",
        "log = logging.getLogger(__name__)\n",
        "coloredlogs.install(level=\"INFO\", logger=log)\n",
        "# stop the tensorflow logger from spamming the console\n",
        "logging.getLogger(\"tensorflow\").setLevel(logging.ERROR)"
      ]
    },
    {
      "cell_type": "code",
      "execution_count": null,
      "metadata": {},
      "outputs": [],
      "source": [
        "args = dotdict({\n",
        "    'numIters': 1000,\n",
        "    'numEps': 100,              # Number of complete self-play games to simulate during a new iteration.\n",
        "    'tempThreshold': 15,        #\n",
        "    'updateThreshold': 0.6,     # During arena playoff, new neural net will be accepted if threshold or more of games are won.\n",
        "    'maxlenOfQueue': 200000,    # Number of game examples to train the neural networks.\n",
        "    'numMCTSSims': 25,          # Number of games moves for MCTS to simulate.\n",
        "    'arenaCompare': 40,         # Number of games to play during arena play to determine if new net will be accepted.\n",
        "    'cpuct': 1,\n",
        "\n",
        "    'checkpoint': './temp/',\n",
        "    'load_model': False,\n",
        "    'load_folder_file': ('/dev/models/8x100x50','best.pth.tar'),\n",
        "    'numItersForTrainExamplesHistory': 20,\n",
        "\n",
        "})\n"
      ]
    },
    {
      "cell_type": "code",
      "execution_count": null,
      "metadata": {},
      "outputs": [],
      "source": [
        "def main():\n",
        "    log.info('Loading %s...', Game.__name__)\n",
        "    g = Game()\n",
        "\n",
        "    log.info('Loading %s...', nn.__name__)\n",
        "    nnet = nn(g)\n",
        "\n",
        "    if args.load_model:\n",
        "        log.info('Loading checkpoint \"%s/%s\"...', args.load_folder_file[0], args.load_folder_file[1])\n",
        "        nnet.load_checkpoint(args.load_folder_file[0], args.load_folder_file[1])\n",
        "    else:\n",
        "        log.warning('Not loading a checkpoint!')\n",
        "\n",
        "    log.info('Loading the Coach...')\n",
        "    c = Coach(g, nnet, args)\n",
        "\n",
        "    if args.load_model:\n",
        "        log.info(\"Loading 'trainExamples' from file...\")\n",
        "        c.loadTrainExamples()\n",
        "\n",
        "    log.info('Starting the learning process 🎉')\n",
        "    c.learn()"
      ]
    },
    {
      "cell_type": "code",
      "execution_count": null,
      "metadata": {},
      "outputs": [],
      "source": [
        "main()"
      ]
    }
  ],
  "metadata": {
    "accelerator": "GPU",
    "colab": {
      "authorship_tag": "ABX9TyPSd+Gic42tmEVDBnFiI0I9",
      "include_colab_link": true,
      "provenance": []
    },
    "gpuClass": "standard",
    "kernelspec": {
      "display_name": "tf",
      "language": "python",
      "name": "python3"
    },
    "language_info": {
      "codemirror_mode": {
        "name": "ipython",
        "version": 3
      },
      "file_extension": ".py",
      "mimetype": "text/x-python",
      "name": "python",
      "nbconvert_exporter": "python",
      "pygments_lexer": "ipython3",
      "version": "3.10.9"
    },
    "vscode": {
      "interpreter": {
        "hash": "75be71934ae121effcdda49546be9a5697ad08bc55ae13bc1fb81c73be75bcf2"
      }
    }
  },
  "nbformat": 4,
  "nbformat_minor": 0
}
